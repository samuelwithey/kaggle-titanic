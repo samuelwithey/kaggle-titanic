{
 "cells": [
  {
   "cell_type": "code",
   "execution_count": 3,
   "id": "b38a7c70",
   "metadata": {},
   "outputs": [],
   "source": [
    "import pandas as pd\n",
    "import sklearn\n",
    "import numpy as np\n",
    "from sklearn.svm import SVC\n",
    "from sklearn.preprocessing import StandardScaler\n",
    "from sklearn.tree import DecisionTreeClassifier\n",
    "from sklearn.ensemble import RandomForestClassifier\n",
    "from sklearn.model_selection import GridSearchCV\n",
    "from sklearn.ensemble import VotingClassifier\n",
    "import definitions\n",
    "from definitions import ROOT_DIR"
   ]
  },
  {
   "cell_type": "code",
   "execution_count": 4,
   "id": "1c62afc3",
   "metadata": {},
   "outputs": [],
   "source": [
    "train_df = pd.read_csv(f'{ROOT_DIR}/data/train.csv')\n",
    "test_df = pd.read_csv(f'{ROOT_DIR}/data/test.csv')"
   ]
  },
  {
   "cell_type": "markdown",
   "id": "f69450be",
   "metadata": {},
   "source": [
    "**Data Preprocessing**"
   ]
  },
  {
   "cell_type": "code",
   "execution_count": 5,
   "id": "d503731b",
   "metadata": {},
   "outputs": [],
   "source": [
    "# Replace NaN values for Age and Fare with the mean\n",
    "train_df['Age'].fillna(train_df['Age'].median(),inplace=True)\n",
    "test_df['Age'].fillna(train_df['Age'].median(),inplace=True)\n",
    "\n",
    "# Replace missing NaN values for Fare in testing data\n",
    "test_df['Fare'].fillna(test_df['Fare'].median(),inplace=True)\n",
    "\n",
    "# Replace Embarked with most frequent value\n",
    "train_df['Embarked'].fillna(train_df['Embarked'].value_counts().idxmax(), inplace=True)"
   ]
  },
  {
   "cell_type": "code",
   "execution_count": 6,
   "id": "4942d423",
   "metadata": {},
   "outputs": [],
   "source": [
    "# Extract the Cabin Letter from Cabin and replace NaN values with 'U' for unknown value\n",
    "train_df['CabinLetter']=train_df['Cabin'].str.slice(0,1)\n",
    "train_df['CabinLetter'].fillna('U', inplace=True)\n",
    "test_df['CabinLetter']=train_df['Cabin'].str.slice(0,1)\n",
    "test_df['CabinLetter'].fillna('U', inplace=True)\n",
    "\n",
    "# Replace one T value with U\n",
    "train_df['CabinLetter'].replace(['T'], ['U'], inplace=True)\n",
    "test_df['CabinLetter'].replace(['T'], ['U'], inplace=True)"
   ]
  },
  {
   "cell_type": "code",
   "execution_count": 7,
   "id": "b297e88c",
   "metadata": {},
   "outputs": [],
   "source": [
    "# Match char \",\" followed by whitespace \"\\s\" zero or one times then capture and match any char one or more occurrences (.+?) then char \".\" then match whitespace \"\\s\"\n",
    "train_df['Title'] = train_df['Name'].str.extract(r',\\s?(.+?)\\.\\s')\n",
    "test_df['Title'] = test_df['Name'].str.extract(r',\\s?(.+?)\\.\\s')"
   ]
  },
  {
   "cell_type": "code",
   "execution_count": 8,
   "id": "b2cb531c",
   "metadata": {},
   "outputs": [],
   "source": [
    "# Replace titles to more common gender associated titles\n",
    "train_df['Title'].replace(['Ms', 'Lady', 'Mme', 'Mlle', 'Dona', 'the Countess'], ['Miss', 'Miss', 'Miss', 'Miss', 'Mrs', 'Mrs'], inplace=True)\n",
    "train_df['Title'].replace(['Sir', 'Capt', 'Col', 'Jonkheer', 'Don', 'Major'], ['Mr', 'Mr', 'Mr', 'Mr', 'Mr', 'Mr'], inplace=True)\n",
    "test_df['Title'].replace(['Mme', 'Dona', 'Ms'], ['Miss', 'Mrs', 'Miss'], inplace=True)\n",
    "test_df['Title'].replace(['Don', 'Col'], ['Mr', 'Mr'], inplace=True)"
   ]
  },
  {
   "cell_type": "code",
   "execution_count": 9,
   "id": "8cc6e613",
   "metadata": {},
   "outputs": [],
   "source": [
    "# Calculate boolean Family column if passenger had family members\n",
    "train_df['Family'] = train_df[\"Parch\"] + train_df[\"SibSp\"]\n",
    "train_df['Family'] = np.where(train_df['Family'] > 0, 1, 0)\n",
    "test_df['Family'] = test_df[\"Parch\"] + test_df[\"SibSp\"]\n",
    "test_df['Family'] = np.where(test_df['Family'] > 0, 1, 0)"
   ]
  },
  {
   "cell_type": "code",
   "execution_count": 10,
   "id": "00949f47",
   "metadata": {},
   "outputs": [],
   "source": [
    "Y_train = train_df[['Survived']].copy()\n",
    "X_train_df = train_df[['Pclass','Sex','Age','Fare','Embarked','Title','CabinLetter', 'Family']].copy()\n",
    "X_test_df = test_df[['Pclass','Sex','Age','Fare','Embarked','Title','CabinLetter', 'Family']].copy()"
   ]
  },
  {
   "cell_type": "code",
   "execution_count": 11,
   "id": "4a46e44f",
   "metadata": {},
   "outputs": [],
   "source": [
    "# Transform into Numerical Values using pd.get_dummies(drop_first=True) to get k-1 dummies out of k categorical levels by removing the first level.\n",
    "X_train=pd.get_dummies(data=X_train_df, columns=['Embarked', 'Title', 'CabinLetter'], drop_first=True)\n",
    "X_test=pd.get_dummies(data=X_test_df, columns=['Embarked', 'Title', 'CabinLetter'], drop_first=True)\n",
    "X_train['Sex'].replace(['male','female'],[1,0],inplace=True)\n",
    "X_test['Sex'].replace(['male','female'],[1,0],inplace=True)"
   ]
  },
  {
   "cell_type": "markdown",
   "id": "2f17bdfa",
   "metadata": {},
   "source": [
    "**Grid Search and Modelling**"
   ]
  },
  {
   "cell_type": "code",
   "execution_count": 12,
   "id": "2cf2c4cc",
   "metadata": {},
   "outputs": [],
   "source": [
    "# Scaling\n",
    "scale=StandardScaler().fit(X_train)\n",
    "X_train_sc=scale.transform(X_train)\n",
    "X_test_sc=scale.transform(X_test)"
   ]
  },
  {
   "cell_type": "code",
   "execution_count": 13,
   "id": "2bd646a5",
   "metadata": {},
   "outputs": [
    {
     "name": "stdout",
     "output_type": "stream",
     "text": [
      "SVC(gamma=0.1, probability=True)\n",
      "{'C': 1.0, 'gamma': 0.1, 'probability': True}\n",
      "score= 0.8148452702278577\n"
     ]
    }
   ],
   "source": [
    "# Support-Vector Machine\n",
    "parameters = {'probability':[True], 'C':np.linspace(1,1000, num = 10), 'gamma':np.linspace(0.1,1,num=1)}\n",
    "gs_svc = GridSearchCV(SVC(),param_grid = parameters, scoring=\"accuracy\",n_jobs=-1)\n",
    "gs_svc.fit(X_train_sc, Y_train.values.ravel())\n",
    "best_svc = gs_svc.best_estimator_\n",
    "print(best_svc)\n",
    "print(gs_svc.best_params_)\n",
    "print('score=',gs_svc.best_score_)"
   ]
  },
  {
   "cell_type": "code",
   "execution_count": 14,
   "id": "3459d6b4",
   "metadata": {},
   "outputs": [
    {
     "name": "stdout",
     "output_type": "stream",
     "text": [
      "DecisionTreeClassifier(max_features=10, min_samples_leaf=5, min_samples_split=3)\n",
      "{'max_features': 10, 'min_samples_leaf': 5, 'min_samples_split': 3, 'splitter': 'best'}\n",
      "score= 0.8349883874207519\n"
     ]
    }
   ],
   "source": [
    "# Decision Tree\n",
    "parameters={'max_features': [1, 2, 3, 5, 6, 7, 8, 9, 10, 15],\n",
    "          'min_samples_split': [2, 3, 4, 5, 6, 7, 10, 15],\n",
    "          'min_samples_leaf': [1, 2, 3, 5, 6, 7, 8, 10, 15],\n",
    "          'splitter':['best']}\n",
    "\n",
    "gs_dt = GridSearchCV(DecisionTreeClassifier(),param_grid = parameters, scoring=\"accuracy\",n_jobs=-1)\n",
    "gs_dt.fit(X_train_sc,Y_train.values.ravel())\n",
    "best_dt=gs_dt.best_estimator_\n",
    "print(best_dt)\n",
    "print(gs_dt.best_params_)\n",
    "print('score=',gs_dt.best_score_)"
   ]
  },
  {
   "cell_type": "code",
   "execution_count": 15,
   "id": "e66e4435",
   "metadata": {},
   "outputs": [
    {
     "name": "stdout",
     "output_type": "stream",
     "text": [
      "RandomForestClassifier(bootstrap=False, max_features=10, min_samples_leaf=5)\n",
      "{'bootstrap': False, 'max_features': 10, 'min_samples_leaf': 5, 'min_samples_split': 2, 'n_estimators': 100}\n",
      "score= 0.8428661100998054\n"
     ]
    }
   ],
   "source": [
    "# Random Forest\n",
    "parameters ={'max_features': [1, 2, 3, 5, 10],\n",
    "          'min_samples_split': [2, 3, 5, 7, 10],\n",
    "          'min_samples_leaf': [1, 3, 5, 7, 10],\n",
    "          'bootstrap': [False],\n",
    "          'n_estimators' :[100,200,300]}\n",
    "\n",
    "gs_rf = GridSearchCV(RandomForestClassifier(),param_grid = parameters, scoring=\"accuracy\",n_jobs=-1)\n",
    "gs_rf.fit(X_train_sc,Y_train.values.ravel())\n",
    "best_rf=gs_rf.best_estimator_\n",
    "print(best_rf)\n",
    "print(gs_rf.best_params_)\n",
    "print('score=',gs_rf.best_score_)"
   ]
  },
  {
   "cell_type": "code",
   "execution_count": 16,
   "id": "68244450",
   "metadata": {},
   "outputs": [],
   "source": [
    "vote=VotingClassifier(estimators=[('rfc',best_rf),\n",
    "                                  ('svc',best_svc),\n",
    "                                  ('dtc',best_dt)],\n",
    "                      voting='soft', n_jobs=-1)\n",
    "\n",
    "vote = vote.fit(X_train_sc, Y_train.values.ravel())"
   ]
  },
  {
   "cell_type": "markdown",
   "id": "0102b753",
   "metadata": {},
   "source": [
    "**Prediction**"
   ]
  },
  {
   "cell_type": "code",
   "execution_count": 17,
   "id": "693ccaa5",
   "metadata": {},
   "outputs": [],
   "source": [
    "Y_predict=vote.predict(X_test_sc)"
   ]
  },
  {
   "cell_type": "markdown",
   "id": "69dbf703",
   "metadata": {},
   "source": [
    "**Submission and CSV download**"
   ]
  },
  {
   "cell_type": "code",
   "execution_count": 19,
   "id": "faf00b08",
   "metadata": {},
   "outputs": [],
   "source": [
    "submission = pd.DataFrame({\"PassengerId\":test_df[\"PassengerId\"], \"Survived\": Y_predict})\n",
    "submission.to_csv(f\"{ROOT_DIR}/submission/submission.csv\", index=False)"
   ]
  },
  {
   "cell_type": "code",
   "execution_count": null,
   "id": "be3dbaea",
   "metadata": {},
   "outputs": [],
   "source": []
  }
 ],
 "metadata": {
  "kernelspec": {
   "display_name": ".venv-kaggle-titanic",
   "language": "python",
   "name": ".venv-kaggle-titanic"
  },
  "language_info": {
   "codemirror_mode": {
    "name": "ipython",
    "version": 3
   },
   "file_extension": ".py",
   "mimetype": "text/x-python",
   "name": "python",
   "nbconvert_exporter": "python",
   "pygments_lexer": "ipython3",
   "version": "3.8.5"
  }
 },
 "nbformat": 4,
 "nbformat_minor": 5
}
