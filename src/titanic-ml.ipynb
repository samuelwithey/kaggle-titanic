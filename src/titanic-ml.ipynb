{
 "cells": [
  {
   "cell_type": "code",
   "execution_count": 22,
   "id": "b38a7c70",
   "metadata": {},
   "outputs": [],
   "source": [
    "import pandas as pd\n",
    "import sklearn\n",
    "import numpy as np\n",
    "from sklearn.svm import SVC\n",
    "from sklearn.preprocessing import StandardScaler\n",
    "from definitions import ROOT_DIR"
   ]
  },
  {
   "cell_type": "code",
   "execution_count": 23,
   "id": "1c62afc3",
   "metadata": {},
   "outputs": [],
   "source": [
    "train_df = pd.read_csv(f'{ROOT_DIR}/data/train.csv')\n",
    "test_df = pd.read_csv(f'{ROOT_DIR}/data/test.csv')"
   ]
  },
  {
   "cell_type": "code",
   "execution_count": 24,
   "metadata": {},
   "outputs": [],
   "source": [
    "# Replace NaN values for Age and Fare with the mean\n",
    "train_df['Age'].fillna(train_df['Age'].median(),inplace=True)\n",
    "test_df['Age'].fillna(train_df['Age'].median(),inplace=True)\n",
    "\n",
    "# Replace missing NaN values for Fare in testing data\n",
    "test_df['Fare'].fillna(test_df['Fare'].median(),inplace=True)\n",
    "\n",
    "# Replace Embarked with most frequent value\n",
    "train_df['Embarked'].fillna(train_df['Embarked'].value_counts().idxmax(), inplace=True)"
   ]
  },
  {
   "cell_type": "code",
   "execution_count": 25,
   "metadata": {},
   "outputs": [],
   "source": [
    "# Extract the Cabin Letter from Cabin and replace NaN values with 'U' for unknown value\n",
    "train_df['CabinLetter']=train_df['Cabin'].str.slice(0,1)\n",
    "train_df['CabinLetter'].fillna('U', inplace=True)\n",
    "test_df['CabinLetter']=train_df['Cabin'].str.slice(0,1)\n",
    "test_df['CabinLetter'].fillna('U', inplace=True)\n",
    "\n",
    "# Replace one T value with U\n",
    "train_df['CabinLetter'].replace(['T'], ['U'], inplace=True)\n",
    "test_df['CabinLetter'].replace(['T'], ['U'], inplace=True)"
   ]
  },
  {
   "cell_type": "code",
   "execution_count": 26,
   "metadata": {},
   "outputs": [],
   "source": [
    "# Match char \",\" followed by whitespace \"\\s\" zero or one times then capture and match any char one or more occurrences (.+?) then char \".\" then match whitespace \"\\s\"\n",
    "train_df['Title'] = train_df['Name'].str.extract(r',\\s?(.+?)\\.\\s')\n",
    "test_df['Title'] = test_df['Name'].str.extract(r',\\s?(.+?)\\.\\s')"
   ]
  },
  {
   "cell_type": "code",
   "execution_count": 27,
   "metadata": {},
   "outputs": [],
   "source": [
    "# Replace titles to more common gender associated titles\n",
    "train_df['Title'].replace(['Ms', 'Lady', 'Mme', 'Mlle', 'Dona', 'the Countess'], ['Miss', 'Miss', 'Miss', 'Miss', 'Mrs', 'Mrs'], inplace=True)\n",
    "train_df['Title'].replace(['Sir', 'Capt', 'Col', 'Jonkheer', 'Don', 'Major'], ['Mr', 'Mr', 'Mr', 'Mr', 'Mr', 'Mr'], inplace=True)\n",
    "test_df['Title'].replace(['Mme', 'Dona', 'Ms'], ['Miss', 'Mrs', 'Miss'], inplace=True)\n",
    "test_df['Title'].replace(['Don', 'Col'], ['Mr', 'Mr'], inplace=True)"
   ]
  },
  {
   "cell_type": "code",
   "execution_count": 28,
   "metadata": {},
   "outputs": [],
   "source": [
    "Y_train = train_df[['Survived']].copy()\n",
    "X_train_df = train_df[['Pclass','Sex','Age','SibSp','Parch','Fare','Embarked','Title','CabinLetter']].copy()\n",
    "X_test_df = test_df[['Pclass','Sex','Age','SibSp','Parch','Fare','Embarked','Title','CabinLetter']].copy()"
   ]
  },
  {
   "cell_type": "code",
   "execution_count": 29,
   "metadata": {},
   "outputs": [],
   "source": [
    "# Transform into Numerical Values using pd.get_dummies(drop_first=True) to get k-1 dummies out of k categorical levels by removing the first level.\n",
    "X_train=pd.get_dummies(data=X_train_df, columns=['Sex', 'Embarked', 'Title', 'CabinLetter'], drop_first=True)\n",
    "X_test=pd.get_dummies(data=X_test_df, columns=['Sex', 'Embarked', 'Title', 'CabinLetter'], drop_first=True)"
   ]
  },
  {
   "cell_type": "code",
   "execution_count": 30,
   "metadata": {},
   "outputs": [],
   "source": [
    "# scaling\n",
    "scale=StandardScaler().fit(X_train)\n",
    "X_train_sc=scale.transform(X_train)\n",
    "X_test_sc=scale.transform(X_test)"
   ]
  },
  {
   "cell_type": "code",
   "execution_count": 31,
   "metadata": {},
   "outputs": [
    {
     "output_type": "execute_result",
     "data": {
      "text/plain": [
       "0.8518518518518519"
      ]
     },
     "metadata": {},
     "execution_count": 31
    }
   ],
   "source": [
    "svc = SVC()\n",
    "svc.fit(X_train_sc, Y_train.values.ravel())\n",
    "Y_pred = svc.predict(X_test_sc)\n",
    "svc.score(X_train_sc, Y_train)"
   ]
  },
  {
   "cell_type": "code",
   "execution_count": 32,
   "metadata": {},
   "outputs": [],
   "source": [
    "submission = pd.DataFrame({\"PassengerId\":test_df[\"PassengerId\"], \"Survived\": Y_pred})\n",
    "submission.to_csv(f\"{ROOT_DIR}/submission/submission.csv\", index=False)"
   ]
  }
 ],
 "metadata": {
  "kernelspec": {
   "display_name": ".venv-kaggle-titanic",
   "language": "python",
   "name": ".venv-kaggle-titanic"
  },
  "language_info": {
   "codemirror_mode": {
    "name": "ipython",
    "version": 3
   },
   "file_extension": ".py",
   "mimetype": "text/x-python",
   "name": "python",
   "nbconvert_exporter": "python",
   "pygments_lexer": "ipython3",
   "version": "3.8.5-final"
  }
 },
 "nbformat": 4,
 "nbformat_minor": 5
}